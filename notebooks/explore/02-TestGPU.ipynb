{
 "cells": [
  {
   "cell_type": "markdown",
   "id": "ab4878e3",
   "metadata": {},
   "source": [
    "# Test & Benchmark GPU\n",
    "\n",
    "## Query support"
   ]
  },
  {
   "cell_type": "code",
   "execution_count": 11,
   "id": "7c0a2fc5",
   "metadata": {},
   "outputs": [
    {
     "output_type": "execute_result",
     "data": {
      "text/plain": [
       "True"
      ]
     },
     "metadata": {},
     "execution_count": 11
    }
   ],
   "source": [
    "import torch\n",
    "torch.cuda.is_available()"
   ]
  },
  {
   "source": [
    "## Benchmark"
   ],
   "cell_type": "markdown",
   "metadata": {}
  },
  {
   "cell_type": "code",
   "execution_count": null,
   "id": "cd0e8a2c",
   "metadata": {},
   "outputs": [],
   "source": [
    "device1 = torch.device('cuda')\n",
    "device2 = torch.device('cpu')\n",
    "\n",
    "devs = [device1, device2]\n",
    "\n",
    "def batched_dot_mul_sum(a, b):\n",
    "    '''Computes batched dot by multiplying and summing'''\n",
    "    return a.mul(b).sum(-1)\n",
    "\n",
    "\n",
    "def batched_dot_bmm(a, b):\n",
    "    '''Computes batched dot by reducing to bmm'''\n",
    "    a = a.reshape(-1, 1, a.shape[-1])\n",
    "    b = b.reshape(-1, b.shape[-1], 1)\n",
    "    return torch.bmm(a, b).flatten(-3)\n",
    "\n",
    "\n",
    "# Input for benchmarking\n",
    "x = torch.randn(10000, 64, device=device1)\n",
    "\n",
    "# Ensure that both functions compute the same output\n",
    "assert batched_dot_mul_sum(x, x).allclose(batched_dot_bmm(x, x))"
   ]
  },
  {
   "cell_type": "code",
   "execution_count": null,
   "id": "b6fe4f94",
   "metadata": {},
   "outputs": [],
   "source": [
    "import torch.utils.benchmark as benchmark\n",
    "\n",
    "for device in devs:\n",
    "    x = x.to(device)\n",
    "\n",
    "    t0 = benchmark.Timer(\n",
    "        stmt='batched_dot_mul_sum(x, x)',\n",
    "        setup='from __main__ import batched_dot_mul_sum',\n",
    "        globals={'x': x})\n",
    "\n",
    "    t1 = benchmark.Timer(\n",
    "        stmt='batched_dot_bmm(x, x)',\n",
    "        setup='from __main__ import batched_dot_bmm',\n",
    "        globals={'x': x})\n",
    "\n",
    "    print('Device: ', device, t0.timeit(100), t1.timeit(100))"
   ]
  },
  {
   "cell_type": "code",
   "execution_count": null,
   "id": "cdd91b2a",
   "metadata": {},
   "outputs": [],
   "source": []
  }
 ],
 "metadata": {
  "kernelspec": {
   "display_name": "Python [conda env:msc] *",
   "language": "python",
   "name": "conda-env-msc-py"
  }
 },
 "nbformat": 4,
 "nbformat_minor": 5
}